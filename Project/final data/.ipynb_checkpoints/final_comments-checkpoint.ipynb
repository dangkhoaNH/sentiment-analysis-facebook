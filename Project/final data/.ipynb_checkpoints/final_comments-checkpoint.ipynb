{
  "nbformat": 4,
  "nbformat_minor": 0,
  "metadata": {
    "colab": {
      "name": "final-comments.ipynb",
      "provenance": [],
      "collapsed_sections": []
    },
    "kernelspec": {
      "name": "python3",
      "display_name": "Python 3"
    },
    "language_info": {
      "name": "python"
    }
  },
  "cells": [
    {
      "cell_type": "code",
      "source": [
        "!pip install underthesea\n",
        "!pip install emoji"
      ],
      "metadata": {
        "colab": {
          "base_uri": "https://localhost:8080/"
        },
        "id": "rtdWcMMkVPIR",
        "outputId": "fca44522-31f6-441e-a64f-6a8b375edd06"
      },
      "execution_count": null,
      "outputs": [
        {
          "output_type": "stream",
          "name": "stdout",
          "text": [
            "Looking in indexes: https://pypi.org/simple, https://us-python.pkg.dev/colab-wheels/public/simple/\n",
            "Requirement already satisfied: underthesea in /usr/local/lib/python3.7/dist-packages (1.3.4)\n",
            "Requirement already satisfied: python-crfsuite>=0.9.6 in /usr/local/lib/python3.7/dist-packages (from underthesea) (0.9.8)\n",
            "Requirement already satisfied: Click>=6.0 in /usr/local/lib/python3.7/dist-packages (from underthesea) (7.1.2)\n",
            "Requirement already satisfied: scikit-learn in /usr/local/lib/python3.7/dist-packages (from underthesea) (1.0.2)\n",
            "Requirement already satisfied: underthesea-core==0.0.4_alpha.10 in /usr/local/lib/python3.7/dist-packages (from underthesea) (0.0.4a10)\n",
            "Requirement already satisfied: requests in /usr/local/lib/python3.7/dist-packages (from underthesea) (2.23.0)\n",
            "Requirement already satisfied: joblib in /usr/local/lib/python3.7/dist-packages (from underthesea) (1.1.0)\n",
            "Requirement already satisfied: PyYAML in /usr/local/lib/python3.7/dist-packages (from underthesea) (3.13)\n",
            "Requirement already satisfied: nltk in /usr/local/lib/python3.7/dist-packages (from underthesea) (3.7)\n",
            "Requirement already satisfied: unidecode in /usr/local/lib/python3.7/dist-packages (from underthesea) (1.3.4)\n",
            "Requirement already satisfied: tqdm in /usr/local/lib/python3.7/dist-packages (from underthesea) (4.64.0)\n",
            "Requirement already satisfied: regex>=2021.8.3 in /usr/local/lib/python3.7/dist-packages (from nltk->underthesea) (2022.6.2)\n",
            "Requirement already satisfied: chardet<4,>=3.0.2 in /usr/local/lib/python3.7/dist-packages (from requests->underthesea) (3.0.4)\n",
            "Requirement already satisfied: idna<3,>=2.5 in /usr/local/lib/python3.7/dist-packages (from requests->underthesea) (2.10)\n",
            "Requirement already satisfied: certifi>=2017.4.17 in /usr/local/lib/python3.7/dist-packages (from requests->underthesea) (2022.6.15)\n",
            "Requirement already satisfied: urllib3!=1.25.0,!=1.25.1,<1.26,>=1.21.1 in /usr/local/lib/python3.7/dist-packages (from requests->underthesea) (1.24.3)\n",
            "Requirement already satisfied: scipy>=1.1.0 in /usr/local/lib/python3.7/dist-packages (from scikit-learn->underthesea) (1.4.1)\n",
            "Requirement already satisfied: threadpoolctl>=2.0.0 in /usr/local/lib/python3.7/dist-packages (from scikit-learn->underthesea) (3.1.0)\n",
            "Requirement already satisfied: numpy>=1.14.6 in /usr/local/lib/python3.7/dist-packages (from scikit-learn->underthesea) (1.21.6)\n",
            "Looking in indexes: https://pypi.org/simple, https://us-python.pkg.dev/colab-wheels/public/simple/\n",
            "Requirement already satisfied: emoji in /usr/local/lib/python3.7/dist-packages (1.7.0)\n"
          ]
        }
      ]
    },
    {
      "cell_type": "code",
      "execution_count": null,
      "metadata": {
        "id": "ClJTFTCdpbc7"
      },
      "outputs": [],
      "source": [
        "import pandas as pd\n",
        "from sklearn.utils import shuffle"
      ]
    },
    {
      "cell_type": "code",
      "source": [
        "df1 = pd.read_csv('comments-69829-emotioned.csv')\n",
        "pd.Series(df1['emotion'].values).value_counts()"
      ],
      "metadata": {
        "colab": {
          "base_uri": "https://localhost:8080/"
        },
        "id": "Mh7Ou3fdrrs7",
        "outputId": "62f7693d-4bc9-4c9f-9c26-46c62824bc74"
      },
      "execution_count": null,
      "outputs": [
        {
          "output_type": "execute_result",
          "data": {
            "text/plain": [
              "neu    36763\n",
              "neg    20590\n",
              "pos    12476\n",
              "dtype: int64"
            ]
          },
          "metadata": {},
          "execution_count": 12
        }
      ]
    },
    {
      "cell_type": "code",
      "source": [
        "df2 = pd.read_csv('comments-test.csv', encoding='utf-8')\n",
        "pd.Series(df2['emotion'].values).value_counts()"
      ],
      "metadata": {
        "colab": {
          "base_uri": "https://localhost:8080/"
        },
        "id": "4rIJqkW8sL9g",
        "outputId": "593ed0f2-7515-4487-b078-19832461f9af"
      },
      "execution_count": null,
      "outputs": [
        {
          "output_type": "execute_result",
          "data": {
            "text/plain": [
              "pos    5000\n",
              "neg    5000\n",
              "dtype: int64"
            ]
          },
          "metadata": {},
          "execution_count": 13
        }
      ]
    },
    {
      "cell_type": "code",
      "source": [
        "df3 = pd.read_csv('comments-train.csv', encoding='utf-8')\n",
        "pd.Series(df3['emotion'].values).value_counts()"
      ],
      "metadata": {
        "colab": {
          "base_uri": "https://localhost:8080/"
        },
        "id": "CG8VXUW-sd2J",
        "outputId": "c0606a32-d730-4681-f361-bfcf9a4c69cc"
      },
      "execution_count": null,
      "outputs": [
        {
          "output_type": "execute_result",
          "data": {
            "text/plain": [
              "pos    15000\n",
              "neg    15000\n",
              "dtype: int64"
            ]
          },
          "metadata": {},
          "execution_count": 14
        }
      ]
    },
    {
      "cell_type": "code",
      "source": [
        "df2 = df2[['comment','segment','emotion']]\n",
        "df3 = df3[['comment','segment','emotion']]"
      ],
      "metadata": {
        "id": "luWcSFMGtUoz"
      },
      "execution_count": null,
      "outputs": []
    },
    {
      "cell_type": "code",
      "source": [
        "df = pd.concat([df1, df2, df3], axis=0)\n",
        "pd.Series(df['emotion'].values).value_counts()"
      ],
      "metadata": {
        "colab": {
          "base_uri": "https://localhost:8080/"
        },
        "id": "3bsDob0HGdg7",
        "outputId": "12fccb0e-1c33-494e-e1ab-d19f5b90f446"
      },
      "execution_count": null,
      "outputs": [
        {
          "output_type": "execute_result",
          "data": {
            "text/plain": [
              "neg    40590\n",
              "neu    36763\n",
              "pos    32476\n",
              "dtype: int64"
            ]
          },
          "metadata": {},
          "execution_count": 16
        }
      ]
    },
    {
      "cell_type": "code",
      "source": [
        "df_shuffled = shuffle(df)\n",
        "# df_shuffled['segment'] = df_shuffled['segment'].map(lambda segments: segments.replace(\"'\", \"\"))\n",
        "# df_shuffled['segment'] = df_shuffled['segment'].map(lambda segments: segments.replace(\"[\", \"\"))\n",
        "# df_shuffled['segment'] = df_shuffled['segment'].map(lambda segments: segments.replace(\"]\", \"\"))\n",
        "# df_shuffled['segment'] = df_shuffled['segment'].map(lambda segments: segments.replace(\",\", \"\"))\n",
        "df_shuffled"
      ],
      "metadata": {
        "colab": {
          "base_uri": "https://localhost:8080/",
          "height": 424
        },
        "id": "Uf_L5lFUtIeO",
        "outputId": "dff10110-4082-479d-afc2-d642757cb0f2"
      },
      "execution_count": null,
      "outputs": [
        {
          "output_type": "execute_result",
          "data": {
            "text/plain": [
              "                                                 comment  \\\n",
              "5356   hôm nay đi châu đốc về ghé qua quán . hủ tiếu ...   \n",
              "8938   đây hẳn hoi là sưởng bánh bao nên mua gần như ...   \n",
              "2412   không gian sang choảnh mà giá k hề sang tí nào...   \n",
              "69183                    nhưng người ta xinh hơn c :))))   \n",
              "30121  hãy xem xét kỹ lại bản thân đi mấy thằng đb cơ...   \n",
              "...                                                  ...   \n",
              "45032                                   ý nghĩ tiêu cực.   \n",
              "20694                        chết cụ lũ súc sinh chúng m   \n",
              "18257   thôi ông anh ơi, người bình thường chứ có phả...   \n",
              "20393  tuổi mới phải thật mạnh mẽ anh nhé . hãy nhớ r...   \n",
              "53543                             thầy bán cho nó đúng k   \n",
              "\n",
              "                                                 segment emotion  \n",
              "5356   ['hôm nay', 'đi', 'châu đốc', 'ghé', 'quán', '...     neg  \n",
              "8938   ['hẳn hoi', 'sưởng', 'bánh bao', 'mua', 'giá b...     pos  \n",
              "2412   ['không gian', 'choảnh', 'giá', 'k', 'hề', 'tí...     pos  \n",
              "69183                 ['người ta', 'xinh', 'c', ':))))']     neu  \n",
              "30121      ['xem xét', 'kỹ', 'đi', 'mấy', 'thằng', 'đb']     neu  \n",
              "...                                                  ...     ...  \n",
              "45032                        ['ý nghĩ', 'tiêu cực', '.']     neu  \n",
              "20694              ['chết', 'cụ', 'lũ', 'súc sinh', 'm']     neg  \n",
              "18257  [',', 'bình thường', 'thần thánh', 'đ', 'đòi',...     neu  \n",
              "20393  ['mạnh mẽ', '.', 'chúng em', 'đằng', 'sauuu', ...     pos  \n",
              "53543                                      ['thầy', 'k']     neu  \n",
              "\n",
              "[109829 rows x 3 columns]"
            ],
            "text/html": [
              "\n",
              "  <div id=\"df-0159419f-591c-4761-a822-7f3d51e4d1be\">\n",
              "    <div class=\"colab-df-container\">\n",
              "      <div>\n",
              "<style scoped>\n",
              "    .dataframe tbody tr th:only-of-type {\n",
              "        vertical-align: middle;\n",
              "    }\n",
              "\n",
              "    .dataframe tbody tr th {\n",
              "        vertical-align: top;\n",
              "    }\n",
              "\n",
              "    .dataframe thead th {\n",
              "        text-align: right;\n",
              "    }\n",
              "</style>\n",
              "<table border=\"1\" class=\"dataframe\">\n",
              "  <thead>\n",
              "    <tr style=\"text-align: right;\">\n",
              "      <th></th>\n",
              "      <th>comment</th>\n",
              "      <th>segment</th>\n",
              "      <th>emotion</th>\n",
              "    </tr>\n",
              "  </thead>\n",
              "  <tbody>\n",
              "    <tr>\n",
              "      <th>5356</th>\n",
              "      <td>hôm nay đi châu đốc về ghé qua quán . hủ tiếu ...</td>\n",
              "      <td>['hôm nay', 'đi', 'châu đốc', 'ghé', 'quán', '...</td>\n",
              "      <td>neg</td>\n",
              "    </tr>\n",
              "    <tr>\n",
              "      <th>8938</th>\n",
              "      <td>đây hẳn hoi là sưởng bánh bao nên mua gần như ...</td>\n",
              "      <td>['hẳn hoi', 'sưởng', 'bánh bao', 'mua', 'giá b...</td>\n",
              "      <td>pos</td>\n",
              "    </tr>\n",
              "    <tr>\n",
              "      <th>2412</th>\n",
              "      <td>không gian sang choảnh mà giá k hề sang tí nào...</td>\n",
              "      <td>['không gian', 'choảnh', 'giá', 'k', 'hề', 'tí...</td>\n",
              "      <td>pos</td>\n",
              "    </tr>\n",
              "    <tr>\n",
              "      <th>69183</th>\n",
              "      <td>nhưng người ta xinh hơn c :))))</td>\n",
              "      <td>['người ta', 'xinh', 'c', ':))))']</td>\n",
              "      <td>neu</td>\n",
              "    </tr>\n",
              "    <tr>\n",
              "      <th>30121</th>\n",
              "      <td>hãy xem xét kỹ lại bản thân đi mấy thằng đb cơ...</td>\n",
              "      <td>['xem xét', 'kỹ', 'đi', 'mấy', 'thằng', 'đb']</td>\n",
              "      <td>neu</td>\n",
              "    </tr>\n",
              "    <tr>\n",
              "      <th>...</th>\n",
              "      <td>...</td>\n",
              "      <td>...</td>\n",
              "      <td>...</td>\n",
              "    </tr>\n",
              "    <tr>\n",
              "      <th>45032</th>\n",
              "      <td>ý nghĩ tiêu cực.</td>\n",
              "      <td>['ý nghĩ', 'tiêu cực', '.']</td>\n",
              "      <td>neu</td>\n",
              "    </tr>\n",
              "    <tr>\n",
              "      <th>20694</th>\n",
              "      <td>chết cụ lũ súc sinh chúng m</td>\n",
              "      <td>['chết', 'cụ', 'lũ', 'súc sinh', 'm']</td>\n",
              "      <td>neg</td>\n",
              "    </tr>\n",
              "    <tr>\n",
              "      <th>18257</th>\n",
              "      <td>thôi ông anh ơi, người bình thường chứ có phả...</td>\n",
              "      <td>[',', 'bình thường', 'thần thánh', 'đ', 'đòi',...</td>\n",
              "      <td>neu</td>\n",
              "    </tr>\n",
              "    <tr>\n",
              "      <th>20393</th>\n",
              "      <td>tuổi mới phải thật mạnh mẽ anh nhé . hãy nhớ r...</td>\n",
              "      <td>['mạnh mẽ', '.', 'chúng em', 'đằng', 'sauuu', ...</td>\n",
              "      <td>pos</td>\n",
              "    </tr>\n",
              "    <tr>\n",
              "      <th>53543</th>\n",
              "      <td>thầy bán cho nó đúng k</td>\n",
              "      <td>['thầy', 'k']</td>\n",
              "      <td>neu</td>\n",
              "    </tr>\n",
              "  </tbody>\n",
              "</table>\n",
              "<p>109829 rows × 3 columns</p>\n",
              "</div>\n",
              "      <button class=\"colab-df-convert\" onclick=\"convertToInteractive('df-0159419f-591c-4761-a822-7f3d51e4d1be')\"\n",
              "              title=\"Convert this dataframe to an interactive table.\"\n",
              "              style=\"display:none;\">\n",
              "        \n",
              "  <svg xmlns=\"http://www.w3.org/2000/svg\" height=\"24px\"viewBox=\"0 0 24 24\"\n",
              "       width=\"24px\">\n",
              "    <path d=\"M0 0h24v24H0V0z\" fill=\"none\"/>\n",
              "    <path d=\"M18.56 5.44l.94 2.06.94-2.06 2.06-.94-2.06-.94-.94-2.06-.94 2.06-2.06.94zm-11 1L8.5 8.5l.94-2.06 2.06-.94-2.06-.94L8.5 2.5l-.94 2.06-2.06.94zm10 10l.94 2.06.94-2.06 2.06-.94-2.06-.94-.94-2.06-.94 2.06-2.06.94z\"/><path d=\"M17.41 7.96l-1.37-1.37c-.4-.4-.92-.59-1.43-.59-.52 0-1.04.2-1.43.59L10.3 9.45l-7.72 7.72c-.78.78-.78 2.05 0 2.83L4 21.41c.39.39.9.59 1.41.59.51 0 1.02-.2 1.41-.59l7.78-7.78 2.81-2.81c.8-.78.8-2.07 0-2.86zM5.41 20L4 18.59l7.72-7.72 1.47 1.35L5.41 20z\"/>\n",
              "  </svg>\n",
              "      </button>\n",
              "      \n",
              "  <style>\n",
              "    .colab-df-container {\n",
              "      display:flex;\n",
              "      flex-wrap:wrap;\n",
              "      gap: 12px;\n",
              "    }\n",
              "\n",
              "    .colab-df-convert {\n",
              "      background-color: #E8F0FE;\n",
              "      border: none;\n",
              "      border-radius: 50%;\n",
              "      cursor: pointer;\n",
              "      display: none;\n",
              "      fill: #1967D2;\n",
              "      height: 32px;\n",
              "      padding: 0 0 0 0;\n",
              "      width: 32px;\n",
              "    }\n",
              "\n",
              "    .colab-df-convert:hover {\n",
              "      background-color: #E2EBFA;\n",
              "      box-shadow: 0px 1px 2px rgba(60, 64, 67, 0.3), 0px 1px 3px 1px rgba(60, 64, 67, 0.15);\n",
              "      fill: #174EA6;\n",
              "    }\n",
              "\n",
              "    [theme=dark] .colab-df-convert {\n",
              "      background-color: #3B4455;\n",
              "      fill: #D2E3FC;\n",
              "    }\n",
              "\n",
              "    [theme=dark] .colab-df-convert:hover {\n",
              "      background-color: #434B5C;\n",
              "      box-shadow: 0px 1px 3px 1px rgba(0, 0, 0, 0.15);\n",
              "      filter: drop-shadow(0px 1px 2px rgba(0, 0, 0, 0.3));\n",
              "      fill: #FFFFFF;\n",
              "    }\n",
              "  </style>\n",
              "\n",
              "      <script>\n",
              "        const buttonEl =\n",
              "          document.querySelector('#df-0159419f-591c-4761-a822-7f3d51e4d1be button.colab-df-convert');\n",
              "        buttonEl.style.display =\n",
              "          google.colab.kernel.accessAllowed ? 'block' : 'none';\n",
              "\n",
              "        async function convertToInteractive(key) {\n",
              "          const element = document.querySelector('#df-0159419f-591c-4761-a822-7f3d51e4d1be');\n",
              "          const dataTable =\n",
              "            await google.colab.kernel.invokeFunction('convertToInteractive',\n",
              "                                                     [key], {});\n",
              "          if (!dataTable) return;\n",
              "\n",
              "          const docLinkHtml = 'Like what you see? Visit the ' +\n",
              "            '<a target=\"_blank\" href=https://colab.research.google.com/notebooks/data_table.ipynb>data table notebook</a>'\n",
              "            + ' to learn more about interactive tables.';\n",
              "          element.innerHTML = '';\n",
              "          dataTable['output_type'] = 'display_data';\n",
              "          await google.colab.output.renderOutput(dataTable, element);\n",
              "          const docLink = document.createElement('div');\n",
              "          docLink.innerHTML = docLinkHtml;\n",
              "          element.appendChild(docLink);\n",
              "        }\n",
              "      </script>\n",
              "    </div>\n",
              "  </div>\n",
              "  "
            ]
          },
          "metadata": {},
          "execution_count": 17
        }
      ]
    },
    {
      "cell_type": "code",
      "source": [
        "df_shuffled.to_csv('comments.csv', index=False)"
      ],
      "metadata": {
        "id": "Kxtlqw8btpzk"
      },
      "execution_count": null,
      "outputs": []
    }
  ]
}