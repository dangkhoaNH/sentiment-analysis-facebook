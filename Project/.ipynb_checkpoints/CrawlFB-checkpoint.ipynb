{
 "cells": [
  {
   "cell_type": "code",
   "execution_count": 1,
   "metadata": {
    "colab": {
     "base_uri": "https://localhost:8080/",
     "height": 1000
    },
    "id": "DjPDFAhvph3E",
    "outputId": "4d5328a1-830b-4825-dd99-8b5b0f7740e5"
   },
   "outputs": [
    {
     "name": "stdout",
     "output_type": "stream",
     "text": [
      "Requirement already satisfied: selenium in c:\\programdata\\anaconda3\\lib\\site-packages (4.3.0)\n",
      "Requirement already satisfied: urllib3[secure,socks]~=1.26 in c:\\programdata\\anaconda3\\lib\\site-packages (from selenium) (1.26.9)\n",
      "Requirement already satisfied: trio-websocket~=0.9 in c:\\programdata\\anaconda3\\lib\\site-packages (from selenium) (0.9.2)\n",
      "Requirement already satisfied: trio~=0.17 in c:\\programdata\\anaconda3\\lib\\site-packages (from selenium) (0.21.0)\n",
      "Requirement already satisfied: idna in c:\\programdata\\anaconda3\\lib\\site-packages (from trio~=0.17->selenium) (3.3)\n",
      "Requirement already satisfied: cffi>=1.14 in c:\\programdata\\anaconda3\\lib\\site-packages (from trio~=0.17->selenium) (1.15.0)\n",
      "Requirement already satisfied: sortedcontainers in c:\\programdata\\anaconda3\\lib\\site-packages (from trio~=0.17->selenium) (2.4.0)\n",
      "Requirement already satisfied: attrs>=19.2.0 in c:\\programdata\\anaconda3\\lib\\site-packages (from trio~=0.17->selenium) (21.4.0)\n",
      "Requirement already satisfied: sniffio in c:\\programdata\\anaconda3\\lib\\site-packages (from trio~=0.17->selenium) (1.2.0)\n",
      "Requirement already satisfied: outcome in c:\\programdata\\anaconda3\\lib\\site-packages (from trio~=0.17->selenium) (1.2.0)\n",
      "Requirement already satisfied: async-generator>=1.9 in c:\\programdata\\anaconda3\\lib\\site-packages (from trio~=0.17->selenium) (1.10)\n",
      "Requirement already satisfied: pycparser in c:\\programdata\\anaconda3\\lib\\site-packages (from cffi>=1.14->trio~=0.17->selenium) (2.21)\n",
      "Requirement already satisfied: wsproto>=0.14 in c:\\programdata\\anaconda3\\lib\\site-packages (from trio-websocket~=0.9->selenium) (1.1.0)\n",
      "Requirement already satisfied: PySocks!=1.5.7,<2.0,>=1.5.6 in c:\\programdata\\anaconda3\\lib\\site-packages (from urllib3[secure,socks]~=1.26->selenium) (1.7.1)\n",
      "Requirement already satisfied: cryptography>=1.3.4 in c:\\programdata\\anaconda3\\lib\\site-packages (from urllib3[secure,socks]~=1.26->selenium) (3.4.8)\n",
      "Requirement already satisfied: certifi in c:\\programdata\\anaconda3\\lib\\site-packages (from urllib3[secure,socks]~=1.26->selenium) (2021.10.8)\n",
      "Requirement already satisfied: pyOpenSSL>=0.14 in c:\\programdata\\anaconda3\\lib\\site-packages (from urllib3[secure,socks]~=1.26->selenium) (21.0.0)\n",
      "Requirement already satisfied: six>=1.5.2 in c:\\programdata\\anaconda3\\lib\\site-packages (from pyOpenSSL>=0.14->urllib3[secure,socks]~=1.26->selenium) (1.16.0)\n",
      "Requirement already satisfied: h11<1,>=0.9.0 in c:\\programdata\\anaconda3\\lib\\site-packages (from wsproto>=0.14->trio-websocket~=0.9->selenium) (0.13.0)\n",
      "Requirement already satisfied: webdriver-manager in c:\\programdata\\anaconda3\\lib\\site-packages (3.8.0)\n",
      "Requirement already satisfied: pybrowsers in c:\\programdata\\anaconda3\\lib\\site-packages (from webdriver-manager) (0.4.1)\n",
      "Requirement already satisfied: requests in c:\\programdata\\anaconda3\\lib\\site-packages (from webdriver-manager) (2.27.1)\n",
      "Requirement already satisfied: python-dotenv in c:\\programdata\\anaconda3\\lib\\site-packages (from webdriver-manager) (0.20.0)\n",
      "Requirement already satisfied: pywin32<304,>=303 in c:\\programdata\\anaconda3\\lib\\site-packages (from pybrowsers->webdriver-manager) (303)\n",
      "Requirement already satisfied: certifi>=2017.4.17 in c:\\programdata\\anaconda3\\lib\\site-packages (from requests->webdriver-manager) (2021.10.8)\n",
      "Requirement already satisfied: idna<4,>=2.5 in c:\\programdata\\anaconda3\\lib\\site-packages (from requests->webdriver-manager) (3.3)\n",
      "Requirement already satisfied: urllib3<1.27,>=1.21.1 in c:\\programdata\\anaconda3\\lib\\site-packages (from requests->webdriver-manager) (1.26.9)\n",
      "Requirement already satisfied: charset-normalizer~=2.0.0 in c:\\programdata\\anaconda3\\lib\\site-packages (from requests->webdriver-manager) (2.0.4)\n"
     ]
    }
   ],
   "source": [
    "!pip install selenium\n",
    "!pip install webdriver-manager"
   ]
  },
  {
   "cell_type": "code",
   "execution_count": 2,
   "metadata": {
    "id": "_cExxfv-pyTj"
   },
   "outputs": [],
   "source": [
    "from time import sleep\n",
    "\n",
    "from webdriver_manager.chrome import ChromeDriverManager\n",
    "\n",
    "from selenium import webdriver\n",
    "from selenium.webdriver.chrome.options import Options\n",
    "from selenium.webdriver.chrome.service import Service\n",
    "from selenium.webdriver.common.by import By"
   ]
  },
  {
   "cell_type": "code",
   "execution_count": 3,
   "metadata": {
    "id": "qukW324yp3Nk"
   },
   "outputs": [],
   "source": [
    "#Create dictionary for posts and comments\n",
    "posts = dict()\n",
    "comments = dict()"
   ]
  },
  {
   "cell_type": "code",
   "execution_count": 4,
   "metadata": {
    "id": "v_eDToQVquJr"
   },
   "outputs": [],
   "source": [
    "def initDriver():\n",
    "    WINDOW_SIZE = \"1920, 1080\"\n",
    "    chrome_options = Options()\n",
    "    chrome_options.add_argument(\"--window-size=%s\" % WINDOW_SIZE)\n",
    "    chrome_options.add_argument('--no-sandbox')\n",
    "    chrome_options.add_argument(\"--disable-blink-features=AutomationControllered\")\n",
    "    chrome_options.add_experimental_option('useAutomationExtension', False)\n",
    "    prefs = {\"profile.default_content_setting_values.notifications\": 2}\n",
    "    chrome_options.add_experimental_option(\"prefs\", prefs)\n",
    "    chrome_options.add_argument(\"--disable-dev-shm-usage\")  # overcome limited resource problems\n",
    "    chrome_options.add_experimental_option(\"excludeSwitches\", [\"enable-automation\"])\n",
    "    chrome_options.add_argument('disable-infobars')\n",
    "    driver = webdriver.Chrome(service=Service(ChromeDriverManager().install()), options=chrome_options)\n",
    "    return driver"
   ]
  },
  {
   "cell_type": "code",
   "execution_count": 5,
   "metadata": {
    "id": "weqWP0sArOq1"
   },
   "outputs": [],
   "source": [
    "def convertToCookie(cookie):\n",
    "    try:\n",
    "        new_cookie = [\"c_user=\", \"xs=\"]\n",
    "        cookie_arr = cookie.split(\";\")\n",
    "        for i in cookie_arr:\n",
    "            if i.__contains__('c_user='):\n",
    "                new_cookie[0] = new_cookie[0] + (i.strip() + \";\").split(\"c_user=\")[1]\n",
    "            if i.__contains__('xs='):\n",
    "                new_cookie[1] = new_cookie[1] + (i.strip() + \";\").split(\"xs=\")[1]\n",
    "                if (len(new_cookie[1].split(\"|\"))):\n",
    "                    new_cookie[1] = new_cookie[1].split(\"|\")[0]\n",
    "                if (\";\" not in new_cookie[1]):\n",
    "                    new_cookie[1] = new_cookie[1] + \";\"\n",
    "\n",
    "        conv = new_cookie[0] + \" \" + new_cookie[1]\n",
    "        if (conv.split(\" \")[0] == \"c_user=\"):\n",
    "            return\n",
    "        else:\n",
    "            return conv\n",
    "    except:\n",
    "        print(\"Error Convert Cookie\")"
   ]
  },
  {
   "cell_type": "code",
   "execution_count": 6,
   "metadata": {
    "id": "UxzQOOMds-be"
   },
   "outputs": [],
   "source": [
    "def loginFacebookByCookie(driver ,cookie):\n",
    "    try:\n",
    "        cookie = convertToCookie(cookie)\n",
    "        print(cookie)\n",
    "        if (cookie != None):\n",
    "            script = 'javascript:void(function(){ function setCookie(t) { var list = t.split(\"; \"); console.log(list); for (var i = list.length - 1; i >= 0; i--) { var cname = list[i].split(\"=\")[0]; var cvalue = list[i].split(\"=\")[1]; var d = new Date(); d.setTime(d.getTime() + (7*24*60*60*1000)); var expires = \";domain=.facebook.com;expires=\"+ d.toUTCString(); document.cookie = cname + \"=\" + cvalue + \"; \" + expires; } } function hex2a(hex) { var str = \"\"; for (var i = 0; i < hex.length; i += 2) { var v = parseInt(hex.substr(i, 2), 16); if (v) str += String.fromCharCode(v); } return str; } setCookie(\"' + cookie + '\"); location.href = \"https://mbasic.facebook.com\"; })();'\n",
    "            driver.execute_script(script)\n",
    "            sleep(5)\n",
    "    except:\n",
    "        print(\"Error login\")"
   ]
  },
  {
   "cell_type": "code",
   "execution_count": 7,
   "metadata": {
    "id": "ZLXRCF5WtN8z"
   },
   "outputs": [],
   "source": [
    "def checkLiveClone(driver):\n",
    "    try:\n",
    "        driver.get(\"https://mbasic.facebook.com/\")\n",
    "        sleep(3)\n",
    "        driver.get(\"https://mbasic.facebook.com/\")\n",
    "        sleep(3)\n",
    "        elementLive = driver.find_elements(by=By.XPATH, value='//a[contains(@href, \"/messages/\")]')\n",
    "        if (len(elementLive) > 0):\n",
    "            print(\"Live\")\n",
    "            return True\n",
    "        return False\n",
    "    except:\n",
    "        print(\"Error Check Live\")"
   ]
  },
  {
   "cell_type": "code",
   "execution_count": 8,
   "metadata": {
    "id": "D4Apo54htihF"
   },
   "outputs": [],
   "source": [
    "def loginFacebookByCookie(driver ,cookie):\n",
    "    try:\n",
    "        cookie = convertToCookie(cookie)\n",
    "        if (cookie != None):\n",
    "            script = 'javascript:void(function(){ function setCookie(t) { var list = t.split(\"; \"); console.log(list); for (var i = list.length - 1; i >= 0; i--) { var cname = list[i].split(\"=\")[0]; var cvalue = list[i].split(\"=\")[1]; var d = new Date(); d.setTime(d.getTime() + (7*24*60*60*1000)); var expires = \";domain=.facebook.com;expires=\"+ d.toUTCString(); document.cookie = cname + \"=\" + cvalue + \"; \" + expires; } } function hex2a(hex) { var str = \"\"; for (var i = 0; i < hex.length; i += 2) { var v = parseInt(hex.substr(i, 2), 16); if (v) str += String.fromCharCode(v); } return str; } setCookie(\"' + cookie + '\"); location.href = \"https://mbasic.facebook.com\"; })();'\n",
    "            driver.execute_script(script)\n",
    "            sleep(5)\n",
    "    except:\n",
    "        print(\"Error login\")"
   ]
  },
  {
   "cell_type": "code",
   "execution_count": 9,
   "metadata": {
    "id": "7YS0n1mGtkyj"
   },
   "outputs": [],
   "source": [
    "def checkLiveCookie(driver, cookie):\n",
    "    try:\n",
    "        driver.get('https://mbasic.facebook.com/')\n",
    "        sleep(3)\n",
    "        driver.get('https://mbasic.facebook.com/')\n",
    "        sleep(3)\n",
    "        loginFacebookByCookie(driver ,cookie)\n",
    "\n",
    "        return checkLiveClone(driver)\n",
    "    except:\n",
    "        print(\"Error Check Live\")"
   ]
  },
  {
   "cell_type": "code",
   "execution_count": 10,
   "metadata": {
    "id": "wv3Eq1-JumHN"
   },
   "outputs": [],
   "source": [
    "def getCommentByPost(driver, postId, target = 100):\n",
    "    try:\n",
    "        driver.get(posts[postId])\n",
    "        try:\n",
    "            commentTags = driver.find_elements(by=By.XPATH, value='//div[contains(@data-sigil, \"comment-body\")]')\n",
    "            if (len(commentTags) < target):\n",
    "                nextButton = driver.find_elements(by=By.XPATH, value='//*[contains(@id,\"see_next\")]/a')\n",
    "                if(len(nextButton)==1):\n",
    "                    nextButton[0].click()\n",
    "                    sleep(3)\n",
    "                repliesButtons = driver.find_elements(by=By.XPATH, value='//a[contains(@href,\"comment/replies/?ctoken=\")]')\n",
    "                while (len(repliesButtons) > 0):\n",
    "                    for repliesButton in repliesButtons:\n",
    "                        repliesButton.click()\n",
    "                        sleep(3)\n",
    "                    repliesButtons = driver.find_elements(by=By.XPATH, value='//a[contains(@href,\"comment/replies/?ctoken=\")]')\n",
    "        except:\n",
    "            print(\"Error\")\n",
    "        commentTags = driver.find_elements(by=By.XPATH, value='//div[contains(@data-sigil, \"comment-body\")]')\n",
    "        if (len(commentTags)):\n",
    "            for comment in commentTags:\n",
    "                commentId = comment.get_attribute('data-commentid')\n",
    "                if(commentId and len(comments) < target):\n",
    "                    commentContent = comment.text\n",
    "                    innerLinks = comment.find_elements(by=By.TAG_NAME, value='a')\n",
    "                    if(len(innerLinks)):\n",
    "                        for innerLink in innerLinks:\n",
    "                            commentContent = commentContent.replace(innerLink.text, '')\n",
    "                    comments[commentId] = commentContent\n",
    "    except:\n",
    "        print(\"Error\")"
   ]
  },
  {
   "cell_type": "code",
   "execution_count": 11,
   "metadata": {
    "id": "YL4yIoeAutd5"
   },
   "outputs": [],
   "source": [
    "def getPostsByFanpage(driver, pageId, amount):\n",
    "    driver.get(\"https://touch.facebook.com/\" + pageId)\n",
    "    while len(posts) < amount:\n",
    "        sleep(3)\n",
    "        driver.execute_script(\"window.scrollTo(0, document.body.scrollHeight)\")\n",
    "        shareButtons = driver.find_elements(by=By.XPATH, value='//a[contains(@href, \"/sharer.php\")]')\n",
    "        if (len(shareButtons)):\n",
    "            for shareButton  in shareButtons:\n",
    "                postId = shareButton.get_attribute('href').split('sid=')[1].split('&')[0]\n",
    "                commentButtons = driver.find_elements(by=By.XPATH, value='//a[contains(@data-click, \"click_comment_ufi\") and contains(@data-click, \"'+str(postId)+'\")]')\n",
    "                if (len(commentButtons) == 1 and len(posts) < amount):\n",
    "                    posts[postId] = commentButtons[0].get_attribute('href')"
   ]
  },
  {
   "cell_type": "code",
   "execution_count": 12,
   "metadata": {
    "colab": {
     "base_uri": "https://localhost:8080/",
     "height": 504
    },
    "id": "dDC9MKwtvI7Q",
    "outputId": "03f78303-7613-4cd9-e43c-9c78fd8d8dd0"
   },
   "outputs": [
    {
     "name": "stdout",
     "output_type": "stream",
     "text": [
      "\n"
     ]
    },
    {
     "name": "stderr",
     "output_type": "stream",
     "text": [
      "[WDM] - ====== WebDriver manager ======\n"
     ]
    },
    {
     "name": "stdout",
     "output_type": "stream",
     "text": [
      "2022-07-07 23:23:58,177 INFO ====== WebDriver manager ======\n"
     ]
    },
    {
     "name": "stderr",
     "output_type": "stream",
     "text": [
      "[WDM] - Current google-chrome version is 103.0.5060\n"
     ]
    },
    {
     "name": "stdout",
     "output_type": "stream",
     "text": [
      "2022-07-07 23:23:58,182 INFO Current google-chrome version is 103.0.5060\n"
     ]
    },
    {
     "name": "stderr",
     "output_type": "stream",
     "text": [
      "[WDM] - Get LATEST chromedriver version for 103.0.5060 google-chrome\n"
     ]
    },
    {
     "name": "stdout",
     "output_type": "stream",
     "text": [
      "2022-07-07 23:23:58,183 INFO Get LATEST chromedriver version for 103.0.5060 google-chrome\n"
     ]
    },
    {
     "name": "stderr",
     "output_type": "stream",
     "text": [
      "[WDM] - Driver [C:\\Users\\Dang Khoa\\.wdm\\drivers\\chromedriver\\win32\\103.0.5060.53\\chromedriver.exe] found in cache\n"
     ]
    },
    {
     "name": "stdout",
     "output_type": "stream",
     "text": [
      "2022-07-07 23:23:58,478 INFO Driver [C:\\Users\\Dang Khoa\\.wdm\\drivers\\chromedriver\\win32\\103.0.5060.53\\chromedriver.exe] found in cache\n"
     ]
    }
   ],
   "source": [
    "cookie = \"c_user=100078201262886; xs=5%3A3WCtHx3uxrbtZw%3A2%3A1657211431%3A-1%3A-1;\"\n",
    "driver = initDriver()\n",
    "isLive = checkLiveCookie(driver, cookie)\n",
    "if (isLive):\n",
    "    getPostsByFanpage(driver, 'theanh28', 400)\n",
    "    for postId in posts:\n",
    "        getCommentByPost(driver, postId, 80000)"
   ]
  },
  {
   "cell_type": "code",
   "execution_count": 13,
   "metadata": {},
   "outputs": [
    {
     "data": {
      "text/plain": [
       "0"
      ]
     },
     "execution_count": 13,
     "metadata": {},
     "output_type": "execute_result"
    }
   ],
   "source": [
    "len(posts)"
   ]
  },
  {
   "cell_type": "code",
   "execution_count": 14,
   "metadata": {},
   "outputs": [
    {
     "data": {
      "text/plain": [
       "0"
      ]
     },
     "execution_count": 14,
     "metadata": {},
     "output_type": "execute_result"
    }
   ],
   "source": [
    "len(comments)"
   ]
  },
  {
   "cell_type": "code",
   "execution_count": 15,
   "metadata": {},
   "outputs": [
    {
     "data": {
      "text/plain": [
       "0"
      ]
     },
     "execution_count": 15,
     "metadata": {},
     "output_type": "execute_result"
    }
   ],
   "source": [
    "data = comments.values()\n",
    "len(data)"
   ]
  },
  {
   "cell_type": "code",
   "execution_count": 16,
   "metadata": {},
   "outputs": [
    {
     "name": "stdout",
     "output_type": "stream",
     "text": [
      "2022-07-07 23:24:20,575 INFO NumExpr defaulting to 8 threads.\n"
     ]
    },
    {
     "data": {
      "text/html": [
       "<div>\n",
       "<style scoped>\n",
       "    .dataframe tbody tr th:only-of-type {\n",
       "        vertical-align: middle;\n",
       "    }\n",
       "\n",
       "    .dataframe tbody tr th {\n",
       "        vertical-align: top;\n",
       "    }\n",
       "\n",
       "    .dataframe thead th {\n",
       "        text-align: right;\n",
       "    }\n",
       "</style>\n",
       "<table border=\"1\" class=\"dataframe\">\n",
       "  <thead>\n",
       "    <tr style=\"text-align: right;\">\n",
       "      <th></th>\n",
       "      <th>comment</th>\n",
       "    </tr>\n",
       "  </thead>\n",
       "  <tbody>\n",
       "  </tbody>\n",
       "</table>\n",
       "</div>"
      ],
      "text/plain": [
       "Empty DataFrame\n",
       "Columns: [comment]\n",
       "Index: []"
      ]
     },
     "execution_count": 16,
     "metadata": {},
     "output_type": "execute_result"
    }
   ],
   "source": [
    "import pandas as pd   \n",
    "df = pd.DataFrame(data, columns=['comment'])\n",
    "df"
   ]
  },
  {
   "cell_type": "code",
   "execution_count": 17,
   "metadata": {},
   "outputs": [],
   "source": [
    "df.to_csv('crawlFB-'+str(len(data))+'-comments.csv')"
   ]
  }
 ],
 "metadata": {
  "colab": {
   "collapsed_sections": [],
   "name": "CrawlFB.ipynb",
   "provenance": []
  },
  "kernelspec": {
   "display_name": "Python 3 (ipykernel)",
   "language": "python",
   "name": "python3"
  },
  "language_info": {
   "codemirror_mode": {
    "name": "ipython",
    "version": 3
   },
   "file_extension": ".py",
   "mimetype": "text/x-python",
   "name": "python",
   "nbconvert_exporter": "python",
   "pygments_lexer": "ipython3",
   "version": "3.9.12"
  }
 },
 "nbformat": 4,
 "nbformat_minor": 4
}
